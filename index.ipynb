{
 "cells": [
  {
   "cell_type": "markdown",
   "metadata": {},
   "source": [
    "# Filtering, Ordering, and Limiting Data with SQL - Lab\n"
   ]
  },
  {
   "cell_type": "markdown",
   "metadata": {},
   "source": [
    "## Introduction\n",
    "In this lab, you will practice writing SQL `SELECT` queries that limit results based on conditions, using `WHERE`, `ORDER BY`, and `LIMIT`."
   ]
  },
  {
   "cell_type": "markdown",
   "metadata": {},
   "source": [
    "## Objectives\n",
    "You will practice the following:\n",
    "\n",
    "* Order the results of your queries by using `ORDER BY` (`ASC` & `DESC`)\n",
    "* Limit the number of records returned by a query using `LIMIT`\n",
    "* Write SQL queries to filter and order results"
   ]
  },
  {
   "cell_type": "markdown",
   "metadata": {},
   "source": [
    "## The Data"
   ]
  },
  {
   "cell_type": "markdown",
   "metadata": {},
   "source": [
    "Here's a database full of famous dogs!  The `dogs` table is populated with the following data:\n",
    "\n",
    "|name      |age    |gender |breed           |temperament|hungry |\n",
    "|----------|-------|-------|----------------|-----------|-------|\n",
    "|Snoopy    |3      |M      |beagle          |friendly   |1      |\n",
    "|McGruff   |10     |M      |bloodhound      |aware      |0      |\n",
    "|Scooby    |6      |M      |great dane      |hungry     |1      |\n",
    "|Little Ann|5      |F      |coonhound       |loyal      |0      |\n",
    "|Pickles   |13     |F      |black lab       |mischievous|1      |\n",
    "|Clifford  |4      |M      |big red         |smiley     |1      |\n",
    "|Lassie    |7      |F      |collie          |loving     |1      |\n",
    "|Snowy     |8      |F      |fox terrier     |adventurous|0      |\n",
    "|NULL      |4      |M      |golden retriever|playful    |1      |"
   ]
  },
  {
   "cell_type": "markdown",
   "metadata": {},
   "source": [
    "## Connecting to the Database\n",
    "\n",
    "In the cell below, import `pandas` and `sqlite3`. Then establish a connection to the database `dogs.db`.\n",
    "\n",
    "Look at all of the data in the table by selecting all columns from the `dogs` table with `pd.read_sql`."
   ]
  },
  {
   "cell_type": "code",
   "execution_count": 1,
   "metadata": {},
   "outputs": [
    {
     "data": {
      "text/html": [
       "<div>\n",
       "<style scoped>\n",
       "    .dataframe tbody tr th:only-of-type {\n",
       "        vertical-align: middle;\n",
       "    }\n",
       "\n",
       "    .dataframe tbody tr th {\n",
       "        vertical-align: top;\n",
       "    }\n",
       "\n",
       "    .dataframe thead th {\n",
       "        text-align: right;\n",
       "    }\n",
       "</style>\n",
       "<table border=\"1\" class=\"dataframe\">\n",
       "  <thead>\n",
       "    <tr style=\"text-align: right;\">\n",
       "      <th></th>\n",
       "      <th>id</th>\n",
       "      <th>name</th>\n",
       "      <th>age</th>\n",
       "      <th>gender</th>\n",
       "      <th>breed</th>\n",
       "      <th>temperament</th>\n",
       "      <th>hungry</th>\n",
       "    </tr>\n",
       "  </thead>\n",
       "  <tbody>\n",
       "    <tr>\n",
       "      <th>0</th>\n",
       "      <td>1</td>\n",
       "      <td>Snoopy</td>\n",
       "      <td>3</td>\n",
       "      <td>M</td>\n",
       "      <td>beagle</td>\n",
       "      <td>friendly</td>\n",
       "      <td>1</td>\n",
       "    </tr>\n",
       "    <tr>\n",
       "      <th>1</th>\n",
       "      <td>2</td>\n",
       "      <td>McGruff</td>\n",
       "      <td>10</td>\n",
       "      <td>M</td>\n",
       "      <td>bloodhound</td>\n",
       "      <td>aware</td>\n",
       "      <td>0</td>\n",
       "    </tr>\n",
       "    <tr>\n",
       "      <th>2</th>\n",
       "      <td>3</td>\n",
       "      <td>Scooby</td>\n",
       "      <td>6</td>\n",
       "      <td>M</td>\n",
       "      <td>great dane</td>\n",
       "      <td>hungry</td>\n",
       "      <td>1</td>\n",
       "    </tr>\n",
       "    <tr>\n",
       "      <th>3</th>\n",
       "      <td>4</td>\n",
       "      <td>Little Ann</td>\n",
       "      <td>5</td>\n",
       "      <td>F</td>\n",
       "      <td>coonhound</td>\n",
       "      <td>loyal</td>\n",
       "      <td>0</td>\n",
       "    </tr>\n",
       "    <tr>\n",
       "      <th>4</th>\n",
       "      <td>5</td>\n",
       "      <td>Pickles</td>\n",
       "      <td>13</td>\n",
       "      <td>F</td>\n",
       "      <td>black lab</td>\n",
       "      <td>mischievous</td>\n",
       "      <td>1</td>\n",
       "    </tr>\n",
       "    <tr>\n",
       "      <th>5</th>\n",
       "      <td>6</td>\n",
       "      <td>Clifford</td>\n",
       "      <td>4</td>\n",
       "      <td>M</td>\n",
       "      <td>big red</td>\n",
       "      <td>smiley</td>\n",
       "      <td>1</td>\n",
       "    </tr>\n",
       "    <tr>\n",
       "      <th>6</th>\n",
       "      <td>7</td>\n",
       "      <td>Lassie</td>\n",
       "      <td>7</td>\n",
       "      <td>F</td>\n",
       "      <td>collie</td>\n",
       "      <td>loving</td>\n",
       "      <td>1</td>\n",
       "    </tr>\n",
       "    <tr>\n",
       "      <th>7</th>\n",
       "      <td>8</td>\n",
       "      <td>Snowy</td>\n",
       "      <td>8</td>\n",
       "      <td>F</td>\n",
       "      <td>fox terrier</td>\n",
       "      <td>adventurous</td>\n",
       "      <td>0</td>\n",
       "    </tr>\n",
       "    <tr>\n",
       "      <th>8</th>\n",
       "      <td>9</td>\n",
       "      <td>None</td>\n",
       "      <td>4</td>\n",
       "      <td>M</td>\n",
       "      <td>golden retriever</td>\n",
       "      <td>playful</td>\n",
       "      <td>1</td>\n",
       "    </tr>\n",
       "  </tbody>\n",
       "</table>\n",
       "</div>"
      ],
      "text/plain": [
       "   id        name  age gender             breed  temperament  hungry\n",
       "0   1      Snoopy    3      M            beagle     friendly       1\n",
       "1   2     McGruff   10      M        bloodhound        aware       0\n",
       "2   3      Scooby    6      M        great dane       hungry       1\n",
       "3   4  Little Ann    5      F         coonhound        loyal       0\n",
       "4   5     Pickles   13      F         black lab  mischievous       1\n",
       "5   6    Clifford    4      M           big red       smiley       1\n",
       "6   7      Lassie    7      F            collie       loving       1\n",
       "7   8       Snowy    8      F       fox terrier  adventurous       0\n",
       "8   9        None    4      M  golden retriever      playful       1"
      ]
     },
     "execution_count": 1,
     "metadata": {},
     "output_type": "execute_result"
    }
   ],
   "source": [
    "# Your code here; imports, create a connection, select all\n",
    "import sqlite3\n",
    "import pandas as pd\n",
    "conn= sqlite3.connect('dogs.db')\n",
    "pd.read_sql(\"SELECT * FROM dogs;\", conn)"
   ]
  },
  {
   "cell_type": "markdown",
   "metadata": {},
   "source": [
    " "
   ]
  },
  {
   "cell_type": "markdown",
   "metadata": {},
   "source": [
    "## Queries\n",
    "\n",
    "Display the outputs for each of the following query descriptions."
   ]
  },
  {
   "cell_type": "markdown",
   "metadata": {},
   "source": [
    "### Select the name and breed for all female dogs\n",
    "\n",
    "<details>\n",
    "    <summary style=\"cursor: pointer; display: inline\"><h4>Click for hint:</h4></summary>\n",
    "    <p>Use <code>WHERE</code> with the <code>=</code> operator</p>\n",
    "</details>"
   ]
  },
  {
   "cell_type": "code",
   "execution_count": 2,
   "metadata": {},
   "outputs": [
    {
     "name": "stdout",
     "output_type": "stream",
     "text": [
      "('Little Ann', 'coonhound')\n",
      "('Pickles', 'black lab')\n",
      "('Lassie', 'collie')\n",
      "('Snowy', 'fox terrier')\n"
     ]
    }
   ],
   "source": [
    "# Your code here\n",
    "\n",
    "cursor = conn.cursor()\n",
    "cursor.execute(\"\"\"SELECT name, breed FROM dogs WHERE gender='F'\"\"\")\n",
    "rows = cursor.fetchall()\n",
    "for dog in rows:\n",
    "    print(dog)"
   ]
  },
  {
   "cell_type": "markdown",
   "metadata": {},
   "source": [
    "### Select the number of dogs that do not have a name\n",
    "\n",
    "<details>\n",
    "    <summary style=\"cursor: pointer; display: inline\"><h4>Click for hint:</h4></summary>\n",
    "    <p>Use <code>COUNT</code> and <code>IS NULL</code></p>\n",
    "</details>"
   ]
  },
  {
   "cell_type": "code",
   "execution_count": 3,
   "metadata": {},
   "outputs": [
    {
     "data": {
      "text/html": [
       "<div>\n",
       "<style scoped>\n",
       "    .dataframe tbody tr th:only-of-type {\n",
       "        vertical-align: middle;\n",
       "    }\n",
       "\n",
       "    .dataframe tbody tr th {\n",
       "        vertical-align: top;\n",
       "    }\n",
       "\n",
       "    .dataframe thead th {\n",
       "        text-align: right;\n",
       "    }\n",
       "</style>\n",
       "<table border=\"1\" class=\"dataframe\">\n",
       "  <thead>\n",
       "    <tr style=\"text-align: right;\">\n",
       "      <th></th>\n",
       "      <th>num_dogs</th>\n",
       "    </tr>\n",
       "  </thead>\n",
       "  <tbody>\n",
       "    <tr>\n",
       "      <th>0</th>\n",
       "      <td>1</td>\n",
       "    </tr>\n",
       "  </tbody>\n",
       "</table>\n",
       "</div>"
      ],
      "text/plain": [
       "   num_dogs\n",
       "0         1"
      ]
     },
     "execution_count": 3,
     "metadata": {},
     "output_type": "execute_result"
    }
   ],
   "source": [
    "# Your code here\n",
    "pd.read_sql(\"\"\"\n",
    "SELECT COUNT(*) AS num_dogs\n",
    "  FROM dogs\n",
    " WHERE name IS NULL;\n",
    "\"\"\", conn)"
   ]
  },
  {
   "cell_type": "code",
   "execution_count": 12,
   "metadata": {},
   "outputs": [
    {
     "name": "stdout",
     "output_type": "stream",
     "text": [
      "(1,)\n"
     ]
    }
   ],
   "source": [
    "cursor.execute(\"SELECT COUNT (*) AS num_of_dogs FROM dogs  WHERE name IS NULL\")\n",
    "rows= cursor.fetchall()\n",
    "for dog in rows:\n",
    "    print(dog)"
   ]
  },
  {
   "cell_type": "markdown",
   "metadata": {},
   "source": [
    "### Select the names of all dogs that contain the double letters `ff` or `oo`\n",
    "\n",
    "<details>\n",
    "    <summary style=\"cursor: pointer; display: inline\"><h4>Click for hint:</h4></summary>\n",
    "    <p>Use <code>LIKE</code>, <code>%</code>, and <code>OR</code></p>\n",
    "</details>"
   ]
  },
  {
   "cell_type": "code",
   "execution_count": 17,
   "metadata": {},
   "outputs": [
    {
     "name": "stdout",
     "output_type": "stream",
     "text": [
      "('Snoopy',)\n",
      "('McGruff',)\n",
      "('Scooby',)\n",
      "('Clifford',)\n"
     ]
    }
   ],
   "source": [
    "# Your code here\n",
    "cursor.execute(\"SELECT name  FROM dogs WHERE name LIKE '%ff%' OR  name LIKE '%oo%'\")\n",
    "rows = cursor.fetchall()\n",
    "for dog in rows:\n",
    "    print(dog)"
   ]
  },
  {
   "cell_type": "markdown",
   "metadata": {},
   "source": [
    "### Select the names of all dogs listed in alphabetical order.  Notice that SQL lists the nameless dog first.\n",
    "\n",
    "<details>\n",
    "    <summary style=\"cursor: pointer; display: inline\"><h4>Click for hint:</h4></summary>\n",
    "    <p>Use <code>ORDER BY</code></p>\n",
    "</details>"
   ]
  },
  {
   "cell_type": "code",
   "execution_count": 19,
   "metadata": {},
   "outputs": [
    {
     "name": "stdout",
     "output_type": "stream",
     "text": [
      "(None,)\n",
      "('Clifford',)\n",
      "('Lassie',)\n",
      "('Little Ann',)\n",
      "('McGruff',)\n",
      "('Pickles',)\n",
      "('Scooby',)\n",
      "('Snoopy',)\n",
      "('Snowy',)\n"
     ]
    }
   ],
   "source": [
    "# Your code here\n",
    "cursor.execute(\"SELECT name  FROM dogs ORDER BY name  ASC\")\n",
    "rows = cursor.fetchall()\n",
    "for dog in rows:\n",
    "    print(dog)"
   ]
  },
  {
   "cell_type": "markdown",
   "metadata": {},
   "source": [
    "### Select the name and breed of only the hungry dogs and list them from youngest to oldest"
   ]
  },
  {
   "cell_type": "code",
   "execution_count": 20,
   "metadata": {},
   "outputs": [
    {
     "name": "stdout",
     "output_type": "stream",
     "text": [
      "('Snoopy', 'beagle')\n",
      "('Clifford', 'big red')\n",
      "(None, 'golden retriever')\n",
      "('Scooby', 'great dane')\n",
      "('Lassie', 'collie')\n",
      "('Pickles', 'black lab')\n"
     ]
    }
   ],
   "source": [
    "# Your code here\n",
    "cursor.execute(\"SELECT name,breed  FROM dogs  WHERE hungry = 1 ORDER BY age  ASC\")\n",
    "rows = cursor.fetchall()\n",
    "for dog in rows:\n",
    "    print(dog)"
   ]
  },
  {
   "cell_type": "markdown",
   "metadata": {},
   "source": [
    "### Select the oldest dog's name, age, and temperament\n",
    "\n",
    "<details>\n",
    "    <summary style=\"cursor: pointer; display: inline\"><h4>Click for hint:</h4></summary>\n",
    "    <p>Use <code>ORDER BY</code> with <code>LIMIT</code></p>\n",
    "</details>"
   ]
  },
  {
   "cell_type": "code",
   "execution_count": 30,
   "metadata": {},
   "outputs": [
    {
     "name": "stdout",
     "output_type": "stream",
     "text": [
      "('Pickles', 13, 'mischievous')\n"
     ]
    }
   ],
   "source": [
    "# Your code here\n",
    "cursor.execute(\"SELECT name,age, temperament FROM dogs ORDER BY age DESC LIMIT 1\")\n",
    "rows = cursor.fetchall()\n",
    "for dog in rows:\n",
    "    print(dog)"
   ]
  },
  {
   "cell_type": "markdown",
   "metadata": {},
   "source": [
    "### Select the name and age of the three youngest dogs"
   ]
  },
  {
   "cell_type": "code",
   "execution_count": 31,
   "metadata": {},
   "outputs": [
    {
     "name": "stdout",
     "output_type": "stream",
     "text": [
      "('Snoopy', 3)\n",
      "('Clifford', 4)\n",
      "(None, 4)\n"
     ]
    }
   ],
   "source": [
    "# Your code here\n",
    "cursor.execute(\"SELECT name,age FROM dogs ORDER BY age ASC LIMIT 3\")\n",
    "rows = cursor.fetchall()\n",
    "for dog in rows:\n",
    "    print(dog)"
   ]
  },
  {
   "cell_type": "markdown",
   "metadata": {},
   "source": [
    "### Select the name and breed of the dogs who are between five and ten years old, ordered from oldest to youngest\n",
    "\n",
    "<details>\n",
    "    <summary style=\"cursor: pointer; display: inline\"><h4>Click for hint:</h4></summary>\n",
    "    <p>Use <code>WHERE</code> with <code>BETWEEN</code></p>\n",
    "</details>"
   ]
  },
  {
   "cell_type": "code",
   "execution_count": null,
   "metadata": {},
   "outputs": [
    {
     "name": "stdout",
     "output_type": "stream",
     "text": [
      "('McGruff', 'bloodhound', 10)\n",
      "('Snowy', 'fox terrier', 8)\n",
      "('Lassie', 'collie', 7)\n",
      "('Scooby', 'great dane', 6)\n",
      "('Little Ann', 'coonhound', 5)\n"
     ]
    }
   ],
   "source": [
    "# Your code here\n",
    "cursor.execute(\"SELECT name,breed, FROM dogs WHERE age BETWEEN 5 AND 10  ORDER BY age DESC \")\n",
    "rows = cursor.fetchall()\n",
    "for dog in rows:\n",
    "    print(dog)"
   ]
  },
  {
   "cell_type": "markdown",
   "metadata": {},
   "source": [
    "### Select the name, age, and hungry columns for hungry dogs between the ages of two and seven.  This query should also list these dogs in alphabetical order."
   ]
  },
  {
   "cell_type": "code",
   "execution_count": 35,
   "metadata": {},
   "outputs": [
    {
     "name": "stdout",
     "output_type": "stream",
     "text": [
      "(None, 4, 1)\n",
      "('Clifford', 4, 1)\n",
      "('Lassie', 7, 1)\n",
      "('Little Ann', 5, 0)\n",
      "('Scooby', 6, 1)\n",
      "('Snoopy', 3, 1)\n"
     ]
    }
   ],
   "source": [
    "# Your code here\n",
    "cursor.execute(\"SELECT name,age,hungry FROM dogs WHERE age BETWEEN 2 AND 7  ORDER BY name  ASC \")\n",
    "rows = cursor.fetchall()\n",
    "for dog in rows:\n",
    "    print(dog)"
   ]
  },
  {
   "cell_type": "markdown",
   "metadata": {},
   "source": [
    "## Close the Database Connection"
   ]
  },
  {
   "cell_type": "code",
   "execution_count": 36,
   "metadata": {},
   "outputs": [],
   "source": [
    "# Your code here\n",
    "cursor.close()"
   ]
  },
  {
   "cell_type": "markdown",
   "metadata": {},
   "source": [
    "## Summary"
   ]
  },
  {
   "cell_type": "markdown",
   "metadata": {},
   "source": [
    "Great work! In this lab you practiced writing more complex SQL statements to not only query specific information but also define the quantity and order of your results. "
   ]
  }
 ],
 "metadata": {
  "kernelspec": {
   "display_name": "learn-env",
   "language": "python",
   "name": "python3"
  },
  "language_info": {
   "codemirror_mode": {
    "name": "ipython",
    "version": 3
   },
   "file_extension": ".py",
   "mimetype": "text/x-python",
   "name": "python",
   "nbconvert_exporter": "python",
   "pygments_lexer": "ipython3",
   "version": "3.8.5"
  },
  "toc": {
   "base_numbering": 1,
   "nav_menu": {},
   "number_sections": true,
   "sideBar": true,
   "skip_h1_title": false,
   "title_cell": "Table of Contents",
   "title_sidebar": "Contents",
   "toc_cell": false,
   "toc_position": {},
   "toc_section_display": true,
   "toc_window_display": false
  }
 },
 "nbformat": 4,
 "nbformat_minor": 2
}
